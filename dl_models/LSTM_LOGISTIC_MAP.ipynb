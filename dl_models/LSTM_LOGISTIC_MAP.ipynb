{
 "cells": [
  {
   "cell_type": "code",
   "execution_count": 1,
   "metadata": {},
   "outputs": [],
   "source": [
    "import os\n",
    "import torch\n",
    "from torch import nn, optim\n",
    "from torch.autograd import Variable\n",
    "from torch.utils.data import DataLoader\n",
    "from torchvision import transforms\n",
    "import torchvision\n",
    "import torch.nn.functional as F\n",
    "import pandas as pd\n",
    "import matplotlib.pyplot as plt\n",
    "import numpy as np\n"
   ]
  },
  {
   "cell_type": "code",
   "execution_count": 2,
   "metadata": {},
   "outputs": [],
   "source": [
    "# Random seed \n",
    "torch.manual_seed(10001)\n",
    "\n",
    "# Read the data and convert it into tensor\n",
    "train = pd.read_csv('N:/Complex_system/data/logistic_map/logistic_mapr3.csv')\n"
   ]
  },
  {
   "cell_type": "code",
   "execution_count": 3,
   "metadata": {},
   "outputs": [
    {
     "data": {
      "image/png": "[encoded data removed]",
      "text/plain": [
       "<Figure size 432x288 with 1 Axes>"
      ]
     },
     "metadata": {
      "needs_background": "light"
     },
     "output_type": "display_data"
    }
   ],
   "source": [
    "plt.plot(train.values[-10:])\n",
    "plt.show()"
   ]
  },
  {
   "cell_type": "markdown",
   "metadata": {},
   "source": [
    "### Convert data values into tensor"
   ]
  },
  {
   "cell_type": "code",
   "execution_count": 4,
   "metadata": {},
   "outputs": [
    {
     "data": {
      "text/plain": [
       "torch.Size([10000, 1])"
      ]
     },
     "execution_count": 4,
     "metadata": {},
     "output_type": "execute_result"
    }
   ],
   "source": [
    "\n",
    "train_tensor = torch.tensor(train.values)\n",
    "train_tensor.shape"
   ]
  },
  {
   "cell_type": "markdown",
   "metadata": {},
   "source": [
    "### Scale the input: Haven't plotted the result; Model shows no learning for scaled input tensors"
   ]
  },
  {
   "cell_type": "code",
   "execution_count": 5,
   "metadata": {},
   "outputs": [],
   "source": [
    "# from sklearn.preprocessing import MinMaxScaler\n",
    "\n",
    "# x_scaler = MinMaxScaler()\n",
    "\n",
    "# x_train_scaled = x_scaler.fit_transform(train_tensor[:99000])"
   ]
  },
  {
   "cell_type": "code",
   "execution_count": 6,
   "metadata": {},
   "outputs": [],
   "source": [
    "# print(x_train_scaled,x_train_scaled.shape)"
   ]
  },
  {
   "cell_type": "markdown",
   "metadata": {},
   "source": [
    "### Load Data"
   ]
  },
  {
   "cell_type": "code",
   "execution_count": 7,
   "metadata": {},
   "outputs": [],
   "source": [
    "# Batch size\n",
    "bs =512\n",
    "\n",
    "# train_data_loader = torch.utils.data.DataLoader(x_train_scaled, batch_size=bs, shuffle=False)\n",
    "train_data_loader = torch.utils.data.DataLoader(train_tensor, batch_size=bs,drop_last=True, shuffle=False)\n",
    "\n",
    "# NOTE: Shuffle is set to false to preserve the sequence in data"
   ]
  },
  {
   "cell_type": "markdown",
   "metadata": {},
   "source": [
    "#### Prechecks on data loader"
   ]
  },
  {
   "cell_type": "code",
   "execution_count": 8,
   "metadata": {},
   "outputs": [
    {
     "name": "stdout",
     "output_type": "stream",
     "text": [
      "torch.Size([512, 1])\n"
     ]
    }
   ],
   "source": [
    "batch = list(train_data_loader)[0]  # [bs,inp_dim]\n",
    "print(batch.shape)\n"
   ]
  },
  {
   "cell_type": "markdown",
   "metadata": {},
   "source": [
    "### VAE model\n",
    "\n",
    "##### Auto-Encoding Variational Bayes; Diederik P Kingma, Max Welling: https://arxiv.org/pdf/1312.6114.pdf"
   ]
  },
  {
   "cell_type": "code",
   "execution_count": 9,
   "metadata": {},
   "outputs": [],
   "source": [
    "class VAE(nn.Module):\n",
    "    def __init__(self, in_dim = 1, hidden_dim = 512, n_layers = 2, out_dim =1 ,z_dim= 12):\n",
    "        \n",
    "        super(VAE, self).__init__()\n",
    "        \n",
    "        # HYPERPARAMETERS\n",
    "        self.n_layers = n_layers\n",
    "        self.hidden_dim = hidden_dim\n",
    "        self.z_dim = z_dim\n",
    "        \n",
    "        # ACTIVATION FUNCTIONS\n",
    "        self.relu = nn.ReLU()\n",
    "        self.sigmoid = nn.Sigmoid()\n",
    "        \n",
    "        # ENCODER\n",
    "        self.encoder_lstm = nn.LSTM(in_dim, hidden_dim, n_layers, batch_first=True)                                  \n",
    "#         self.encoder_output = nn.Linear(hidden_dim, z_dim*2)\n",
    "        self.encoder_output = nn.Linear(hidden_dim, hidden_dim)\n",
    "        \n",
    "        # DECODER\n",
    "#         self.decoder_lstm = nn.LSTM(z_dim, hidden_dim, n_layers, batch_first=True) \n",
    "        self.decoder_lstm = nn.LSTM(hidden_dim, hidden_dim, n_layers, batch_first=True)\n",
    "        self.decoder_output = nn.Linear(hidden_dim, out_dim)\n",
    "        \n",
    "     \n",
    "    # LATENT SAMPLER\n",
    "    def reparameterize(self, mu, logvar):\n",
    "        \n",
    "        std = logvar.mul(0.5).exp_()\n",
    "        esp = Variable(torch.randn(*mu.size())).cuda()\n",
    "        z = mu + std * esp\n",
    "        return z\n",
    "                                          \n",
    "    def forward(self, x):\n",
    "        \n",
    "        # Encoder\n",
    "        enc_hidden = self._init_hidden()   \n",
    "        enc,_ = self.encoder_lstm(x,enc_hidden)\n",
    "        enc = self.relu(enc)\n",
    "\n",
    "        # Reparameterize\n",
    "        z_var = self.encoder_output(enc)\n",
    "        mu,logvar = torch.chunk(z_var, 2, dim=2)     \n",
    "        z = self.reparameterize(mu, logvar)\n",
    "        \n",
    "        # Decoder\n",
    "        dec_hidden = self._init_hidden()\n",
    "#         dec,_ = self.decoder_lstm(z,dec_hidden)\n",
    "        dec,_ = self.decoder_lstm(enc,dec_hidden)\n",
    "        dec = self.relu(dec)\n",
    "        dec = self.decoder_output(dec)\n",
    "        \n",
    "        return dec, mu, logvar\n",
    "    \n",
    "    \n",
    "    def _init_hidden(self):\n",
    "        return (torch.zeros(self.n_layers, bs, self.hidden_dim).cuda(), torch.zeros(self.n_layers, bs, self.hidden_dim).cuda())\n",
    "        "
   ]
  },
  {
   "cell_type": "code",
   "execution_count": 10,
   "metadata": {},
   "outputs": [
    {
     "data": {
      "text/plain": [
       "VAE(\n",
       "  (relu): ReLU()\n",
       "  (sigmoid): Sigmoid()\n",
       "  (encoder_lstm): LSTM(1, 512, num_layers=2, batch_first=True)\n",
       "  (encoder_output): Linear(in_features=512, out_features=512, bias=True)\n",
       "  (decoder_lstm): LSTM(512, 512, num_layers=2, batch_first=True)\n",
       "  (decoder_output): Linear(in_features=512, out_features=1, bias=True)\n",
       ")"
      ]
     },
     "execution_count": 10,
     "metadata": {},
     "output_type": "execute_result"
    }
   ],
   "source": [
    "vae = VAE()\n",
    "if torch.cuda.is_available():\n",
    "    vae.cuda()\n",
    "vae"
   ]
  },
  {
   "cell_type": "code",
   "execution_count": 11,
   "metadata": {},
   "outputs": [],
   "source": [
    "optimizer = torch.optim.Adam(vae.parameters(), lr=1e-3)"
   ]
  },
  {
   "cell_type": "code",
   "execution_count": 12,
   "metadata": {},
   "outputs": [],
   "source": [
    "def loss_fn(recon_x, x, mu, logvar,eps):\n",
    "    \n",
    "    # When sigmoid output, for time series, linear function is must\n",
    "\n",
    "    RMSE = torch.sqrt(torch.mean((recon_x-x)**2))\n",
    "    \n",
    "#     KLD = -0.5 * torch.sum(1 + logvar - mu**2 -  logvar.exp()) + eps\n",
    "\n",
    "    return RMSE "
   ]
  },
  {
   "cell_type": "code",
   "execution_count": 13,
   "metadata": {},
   "outputs": [
    {
     "name": "stdout",
     "output_type": "stream",
     "text": [
      "Epoch[1/10] Loss: 0.001\n",
      "Epoch[2/10] Loss: 0.000\n",
      "Epoch[3/10] Loss: 0.000\n",
      "Epoch[4/10] Loss: 0.000\n",
      "Epoch[5/10] Loss: 0.000\n",
      "Epoch[6/10] Loss: 0.000\n",
      "Epoch[7/10] Loss: 0.000\n",
      "Epoch[8/10] Loss: 0.000\n",
      "Epoch[9/10] Loss: 0.000\n",
      "Epoch[10/10] Loss: 0.000\n"
     ]
    }
   ],
   "source": [
    "epochs = 10\n",
    "eps = torch.Tensor([1e-10]).cuda()\n",
    "x_pred = []\n",
    "for epoch in range(epochs):\n",
    "    for idx, x in enumerate(train_data_loader):\n",
    "         \n",
    "        x = x.unsqueeze(1).float().cuda()  # [bs,1,inp_dim]\n",
    "        recon_x, mu, logvar = vae(x)   \n",
    "        loss = loss_fn(recon_x, x, mu, logvar,eps)\n",
    "        optimizer.zero_grad()\n",
    "        loss.backward()\n",
    "        optimizer.step()\n",
    "#         print(KLD)\n",
    "#         print(RMSE)\n",
    "        if epoch == epochs-1:\n",
    "            x_pred.extend(recon_x.cpu().squeeze())\n",
    "        if idx%100 == 0:\n",
    "            print(\"Epoch[{}/{}] Loss: {:.3f}\".format(epoch+1, epochs, loss.item()/bs))\n",
    "            "
   ]
  },
  {
   "cell_type": "code",
   "execution_count": 14,
   "metadata": {},
   "outputs": [
    {
     "name": "stderr",
     "output_type": "stream",
     "text": [
      "C:\\Users\\saran\\Anaconda3\\envs\\tensor\\lib\\site-packages\\torch\\serialization.py:251: UserWarning: Couldn't retrieve source code for container of type VAE. It won't be checked for correctness upon loading.\n",
      "  \"type \" + obj.__name__ + \". It won't be checked \"\n"
     ]
    }
   ],
   "source": [
    "checkpoint = {'model': VAE(),\n",
    "          'state_dict': vae.state_dict(),\n",
    "          'optimizer' : optimizer.state_dict()}\n",
    "\n",
    "torch.save(checkpoint, 'checkpoint_lstm_logistic_rmse.pth')"
   ]
  },
  {
   "cell_type": "code",
   "execution_count": 15,
   "metadata": {},
   "outputs": [
    {
     "data": {
      "text/plain": [
       "(9728,)"
      ]
     },
     "execution_count": 15,
     "metadata": {},
     "output_type": "execute_result"
    }
   ],
   "source": [
    "np.asarray(x_pred).shape"
   ]
  },
  {
   "cell_type": "code",
   "execution_count": 16,
   "metadata": {},
   "outputs": [
    {
     "data": {
      "image/png": "[encoded data removed]",
      "text/plain": [
       "<Figure size 432x288 with 1 Axes>"
      ]
     },
     "metadata": {
      "needs_background": "light"
     },
     "output_type": "display_data"
    }
   ],
   "source": [
    "plt.plot(x_pred[:100])\n",
    "plt.plot(train.values[:100])\n",
    "plt.savefig('logistic_lstm_vae.png')\n",
    "plt.show()"
   ]
  },
  {
   "cell_type": "code",
   "execution_count": null,
   "metadata": {},
   "outputs": [],
   "source": []
  },
  {
   "cell_type": "code",
   "execution_count": null,
   "metadata": {},
   "outputs": [],
   "source": []
  },
  {
   "cell_type": "code",
   "execution_count": null,
   "metadata": {},
   "outputs": [],
   "source": []
  },
  {
   "cell_type": "code",
   "execution_count": null,
   "metadata": {},
   "outputs": [],
   "source": []
  }
 ],
 "metadata": {
  "kernelspec": {
   "display_name": "Python 3",
   "language": "python",
   "name": "python3"
  },
  "language_info": {
   "codemirror_mode": {
    "name": "ipython",
    "version": 3
   },
   "file_extension": ".py",
   "mimetype": "text/x-python",
   "name": "python",
   "nbconvert_exporter": "python",
   "pygments_lexer": "ipython3",
   "version": "3.6.8"
  }
 },
 "nbformat": 4,
 "nbformat_minor": 2
}
