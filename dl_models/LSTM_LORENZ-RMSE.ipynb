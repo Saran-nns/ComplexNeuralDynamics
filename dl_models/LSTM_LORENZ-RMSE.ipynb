{
 "cells": [
  {
   "cell_type": "code",
   "execution_count": 24,
   "metadata": {},
   "outputs": [],
   "source": [
    "import os\n",
    "import torch\n",
    "from torch import nn, optim\n",
    "from torch.autograd import Variable\n",
    "from torch.utils.data import DataLoader\n",
    "from torchvision import transforms\n",
    "import torchvision\n",
    "import torch.nn.functional as F\n",
    "import pandas as pd\n",
    "import numpy as np\n",
    "import matplotlib.pyplot as plt\n",
    "import glob\n",
    "import IPython.display as IPdisplay\n",
    "from scipy.integrate import odeint\n",
    "from mpl_toolkits.mplot3d.axes3d import Axes3D\n",
    "from PIL import Image\n"
   ]
  },
  {
   "cell_type": "markdown",
   "metadata": {},
   "source": [
    "### Load and read the training data"
   ]
  },
  {
   "cell_type": "code",
   "execution_count": 25,
   "metadata": {},
   "outputs": [],
   "source": [
    "# Random seed \n",
    "torch.manual_seed(10001)\n",
    "\n",
    "# Read the data and convert it into tensor\n",
    "train = pd.read_csv('N:/Complex_system/data/lorenz/xyz.csv')\n",
    "train_tensor = torch.tensor(train.values)\n"
   ]
  },
  {
   "cell_type": "markdown",
   "metadata": {},
   "source": [
    "### Plot single data variable "
   ]
  },
  {
   "cell_type": "code",
   "execution_count": 26,
   "metadata": {},
   "outputs": [
    {
     "data": {
      "image/png": "[encoded data removed]",
      "text/plain": [
       "<Figure size 432x288 with 1 Axes>"
      ]
     },
     "metadata": {
      "needs_background": "light"
     },
     "output_type": "display_data"
    }
   ],
   "source": [
    "plt.plot(train.values[:,1][:1024])  # y variable\n",
    "plt.show()"
   ]
  },
  {
   "cell_type": "markdown",
   "metadata": {},
   "source": [
    "### Scale the input: Haven't plotted the result; Model shows no learning for scaled input tensors"
   ]
  },
  {
   "cell_type": "code",
   "execution_count": 27,
   "metadata": {},
   "outputs": [],
   "source": [
    "# from sklearn.preprocessing import MinMaxScaler\n",
    "\n",
    "# x_scaler = MinMaxScaler()\n",
    "\n",
    "# x_train_scaled = x_scaler.fit_transform(train_tensor[:99000])"
   ]
  },
  {
   "cell_type": "code",
   "execution_count": 28,
   "metadata": {},
   "outputs": [],
   "source": [
    "# print(x_train_scaled,x_train_scaled.shape)"
   ]
  },
  {
   "cell_type": "markdown",
   "metadata": {},
   "source": [
    "### Load Data"
   ]
  },
  {
   "cell_type": "code",
   "execution_count": 29,
   "metadata": {},
   "outputs": [],
   "source": [
    "# Batch size\n",
    "bs = 1024\n",
    "\n",
    "# train_data_loader = torch.utils.data.DataLoader(x_train_scaled, batch_size=bs, shuffle=False)\n",
    "train_data_loader = torch.utils.data.DataLoader(train_tensor, batch_size=bs,drop_last=True, shuffle=False)\n",
    "\n",
    "# NOTE: Shuffle is set to false to preserve the sequence in data"
   ]
  },
  {
   "cell_type": "markdown",
   "metadata": {},
   "source": [
    "#### Prechecks on data loader"
   ]
  },
  {
   "cell_type": "code",
   "execution_count": 30,
   "metadata": {},
   "outputs": [
    {
     "name": "stdout",
     "output_type": "stream",
     "text": [
      "torch.Size([1024, 3])\n"
     ]
    }
   ],
   "source": [
    "batch = list(train_data_loader)[0]  # [bs,inp_dim]\n",
    "print(batch.shape)\n"
   ]
  },
  {
   "cell_type": "markdown",
   "metadata": {},
   "source": [
    "### VAE model\n",
    "\n",
    "##### Auto-Encoding Variational Bayes; Diederik P Kingma, Max Welling: https://arxiv.org/pdf/1312.6114.pdf"
   ]
  },
  {
   "cell_type": "code",
   "execution_count": 31,
   "metadata": {},
   "outputs": [],
   "source": [
    "class VAE(nn.Module):\n",
    "    def __init__(self, in_dim = 3, hidden_dim = 512, n_layers = 2, out_dim =3 ,z_dim= 10):\n",
    "        \n",
    "        super(VAE, self).__init__()\n",
    "        \n",
    "        # HYPERPARAMETERS\n",
    "        self.n_layers = n_layers\n",
    "        self.hidden_dim = hidden_dim\n",
    "        self.z_dim = z_dim\n",
    "        \n",
    "        # ACTIVATION FUNCTIONS\n",
    "        self.relu = nn.ReLU()\n",
    "        self.sigmoid = nn.Sigmoid()\n",
    "        \n",
    "        # ENCODER\n",
    "        self.encoder_lstm = nn.LSTM(in_dim, hidden_dim, n_layers, batch_first=True)                                  \n",
    "#         self.encoder_output = nn.Linear(hidden_dim, z_dim*2)\n",
    "        self.encoder_output = nn.Linear(hidden_dim, hidden_dim)\n",
    "        \n",
    "        # DECODER\n",
    "#         self.decoder_lstm = nn.LSTM(z_dim, hidden_dim, n_layers, batch_first=True) \n",
    "        self.decoder_lstm = nn.LSTM(hidden_dim, hidden_dim, n_layers, batch_first=True)\n",
    "        self.decoder_output = nn.Linear(hidden_dim, out_dim)\n",
    "        \n",
    "     \n",
    "    # LATENT SAMPLER\n",
    "    def reparameterize(self, mu, logvar):\n",
    "        \n",
    "        std = logvar.mul(0.5).exp_()\n",
    "        esp = Variable(torch.randn(*mu.size())).cuda()\n",
    "        z = mu + std * esp\n",
    "        return z\n",
    "                                          \n",
    "    def forward(self, x):\n",
    "        \n",
    "        # Encoder\n",
    "        enc_hidden = self._init_hidden()   \n",
    "        enc,_ = self.encoder_lstm(x,enc_hidden)\n",
    "        enc = self.relu(enc)\n",
    "\n",
    "        # Reparameterize\n",
    "        z_var = self.encoder_output(enc)\n",
    "        mu,logvar = torch.chunk(z_var, 2, dim=2)     \n",
    "        z = self.reparameterize(mu, logvar)\n",
    "        \n",
    "        # Decoder\n",
    "        dec_hidden = self._init_hidden()\n",
    "#         dec,_ = self.decoder_lstm(z,dec_hidden)\n",
    "        dec,_ = self.decoder_lstm(enc,dec_hidden)\n",
    "#         dec = self.relu(dec)\n",
    "        dec = self.decoder_output(dec)\n",
    "        \n",
    "        return dec, mu, logvar\n",
    "    \n",
    "    \n",
    "    def _init_hidden(self):\n",
    "        return (torch.zeros(self.n_layers, bs, self.hidden_dim).cuda(), torch.zeros(self.n_layers, bs, self.hidden_dim).cuda())\n",
    "        "
   ]
  },
  {
   "cell_type": "markdown",
   "metadata": {},
   "source": [
    "### Initiate model instance"
   ]
  },
  {
   "cell_type": "code",
   "execution_count": 32,
   "metadata": {},
   "outputs": [
    {
     "data": {
      "text/plain": [
       "VAE(\n",
       "  (relu): ReLU()\n",
       "  (sigmoid): Sigmoid()\n",
       "  (encoder_lstm): LSTM(3, 512, num_layers=2, batch_first=True)\n",
       "  (encoder_output): Linear(in_features=512, out_features=512, bias=True)\n",
       "  (decoder_lstm): LSTM(512, 512, num_layers=2, batch_first=True)\n",
       "  (decoder_output): Linear(in_features=512, out_features=3, bias=True)\n",
       ")"
      ]
     },
     "execution_count": 32,
     "metadata": {},
     "output_type": "execute_result"
    }
   ],
   "source": [
    "vae = VAE()\n",
    "if torch.cuda.is_available():\n",
    "    vae.cuda()\n",
    "vae"
   ]
  },
  {
   "cell_type": "markdown",
   "metadata": {},
   "source": [
    "### Loss function"
   ]
  },
  {
   "cell_type": "code",
   "execution_count": 33,
   "metadata": {},
   "outputs": [],
   "source": [
    "def loss_fn(recon_x, x, mu, logvar,eps):\n",
    "    \n",
    "#     BCE = F.binary_cross_entropy(recon_x + eps, x, size_average=False)\n",
    "\n",
    "    RMSE = torch.sqrt(torch.mean((recon_x-x)**2))\n",
    "    \n",
    "    KLD = -0.5 * torch.sum(1 + logvar - mu**2 -  logvar.exp())\n",
    "\n",
    "    return RMSE"
   ]
  },
  {
   "cell_type": "markdown",
   "metadata": {},
   "source": [
    "### Training"
   ]
  },
  {
   "cell_type": "code",
   "execution_count": 34,
   "metadata": {},
   "outputs": [
    {
     "name": "stdout",
     "output_type": "stream",
     "text": [
      "Epoch[1/10] Loss: 0.016\n",
      "Epoch[2/10] Loss: 0.008\n",
      "Epoch[3/10] Loss: 0.008\n",
      "Epoch[4/10] Loss: 0.002\n",
      "Epoch[5/10] Loss: 0.001\n",
      "Epoch[6/10] Loss: 0.001\n",
      "Epoch[7/10] Loss: 0.001\n",
      "Epoch[8/10] Loss: 0.000\n",
      "Epoch[9/10] Loss: 0.001\n",
      "Epoch[10/10] Loss: 0.000\n"
     ]
    }
   ],
   "source": [
    "# Training hyperparameters\n",
    "\n",
    "epochs = 10\n",
    "eps = torch.Tensor([1e-10]).cuda()\n",
    "optimizer = torch.optim.Adam(vae.parameters(), lr=1e-3)\n",
    "\n",
    "pred = []\n",
    "for epoch in range(epochs):\n",
    "    for idx, x in enumerate(train_data_loader):\n",
    "         \n",
    "        x = x.unsqueeze(1).float().cuda()  # [bs,1,inp_dim]\n",
    "        recon_x, mu, logvar = vae(x)   \n",
    "        loss = loss_fn(recon_x, x, mu, logvar,eps)\n",
    "\n",
    "        optimizer.zero_grad()\n",
    "        loss.backward()\n",
    "        optimizer.step()\n",
    "    \n",
    "    \n",
    "        if epoch == epochs-1:\n",
    "            pred.append(recon_x.cpu().detach().squeeze().numpy())\n",
    "            \n",
    "        if idx%100 == 0:\n",
    "            print(\"Epoch[{}/{}] Loss: {:.3f}\".format(epoch+1, epochs, loss.item()/bs))\n",
    "            \n",
    "            \n",
    "          "
   ]
  },
  {
   "cell_type": "code",
   "execution_count": 35,
   "metadata": {},
   "outputs": [
    {
     "name": "stderr",
     "output_type": "stream",
     "text": [
      "C:\\Users\\saran\\Anaconda3\\envs\\tensor\\lib\\site-packages\\torch\\serialization.py:251: UserWarning: Couldn't retrieve source code for container of type VAE. It won't be checked for correctness upon loading.\n",
      "  \"type \" + obj.__name__ + \". It won't be checked \"\n"
     ]
    }
   ],
   "source": [
    "checkpoint = {'model': VAE(),\n",
    "          'state_dict': vae.state_dict(),\n",
    "          'optimizer' : optimizer.state_dict()}\n",
    "\n",
    "torch.save(checkpoint, 'checkpoint-lorenzrmse.pth')"
   ]
  },
  {
   "cell_type": "markdown",
   "metadata": {},
   "source": [
    "### Data post processing and ploting functions"
   ]
  },
  {
   "cell_type": "code",
   "execution_count": 36,
   "metadata": {},
   "outputs": [],
   "source": [
    "# Convert N-d array/tensor into 2-D array\n",
    "def ND22D(ndarray,n_columns):\n",
    "    d = np.asarray(ndarray)  \n",
    "    f = np.asarray(d.flatten())  # Flatten the array into 1d\n",
    "    g = f.reshape(f.shape[0]//n_columns,n_columns)  # Reshape the array with target columns\n",
    "    return g\n"
   ]
  },
  {
   "cell_type": "code",
   "execution_count": 73,
   "metadata": {},
   "outputs": [],
   "source": [
    "# Target folder to save the images\n",
    "\n",
    "save_folder = 'dl_models/lorenz_img'\n",
    "if not os.path.exists(save_folder):\n",
    "    os.makedirs(save_folder)"
   ]
  },
  {
   "cell_type": "code",
   "execution_count": 51,
   "metadata": {},
   "outputs": [],
   "source": [
    "# Plot the system in 3 dimensions\n",
    "def plot_lorenz(pxyz,xyz, n):\n",
    "    \n",
    "    \"\"\"\n",
    "    pxyz - Predicted trajectory\n",
    "    xyz - Actual trajectory\n",
    "    n - Every n-th point in the data\"\"\"\n",
    "    \n",
    "    fig = plt.figure(figsize=(12, 9))\n",
    "    ax = fig.gca(projection='3d')\n",
    "    ax.xaxis.set_pane_color((1,1,1,1))\n",
    "    ax.yaxis.set_pane_color((1,1,1,1))\n",
    "    ax.zaxis.set_pane_color((1,1,1,1))\n",
    "    x = xyz[:, 0]\n",
    "    y = xyz[:, 1]\n",
    "    z = xyz[:, 2]\n",
    "    ax.plot(x, y, z, color='g', alpha=0.7, linewidth=0.7,label = 'Training trajectory')\n",
    "    \n",
    "    px = pxyz[:, 0]\n",
    "    py = pxyz[:, 1]\n",
    "    pz = pxyz[:, 2]\n",
    "    ax.plot(px, py, pz, color='r', alpha=0.7, linewidth=0.7, label = 'Predicted trajectory ')\n",
    "    \n",
    "    ax.set_xlim((-30,30))\n",
    "    ax.set_ylim((-30,30))\n",
    "    ax.set_zlim((0,50))\n",
    "    ax.set_title('Lorenz system attractor')\n",
    "    plt.legend()\n",
    "    \n",
    "    plt.savefig('{}/{:03d}.png'.format(save_folder, n), dpi=60, bbox_inches='tight', pad_inches=0.1)\n",
    "    plt.close()"
   ]
  },
  {
   "cell_type": "code",
   "execution_count": 52,
   "metadata": {},
   "outputs": [
    {
     "name": "stdout",
     "output_type": "stream",
     "text": [
      "99328 99328\n"
     ]
    }
   ],
   "source": [
    "g= ND22D(pred,3)\n",
    "# plot_lorenz(g,train.values[:g.shape[0]],1)\n",
    "\n",
    "\n",
    "print(len(list(g)),len(list(train.values[:len(g)])))\n"
   ]
  },
  {
   "cell_type": "code",
   "execution_count": 79,
   "metadata": {},
   "outputs": [],
   "source": [
    "# Return a list in iteratively larger chunks\n",
    "def get_chunks(full_list, size):\n",
    "    size = max(1, size)\n",
    "    chunks = [full_list[0:i] for i in range(1, len(full_list) + 1, size)]\n",
    "    return chunks\n",
    "\n",
    "\n",
    "# Get incrementally larger chunks of the time points, to reveal the attractor one frame at a time\n",
    "chunks_g = get_chunks(list(g)[:5000], size=30)"
   ]
  },
  {
   "cell_type": "code",
   "execution_count": 80,
   "metadata": {},
   "outputs": [],
   "source": [
    "chunks_train = get_chunks(list(train.values[:len(g)])[:5000],size = 30)"
   ]
  },
  {
   "cell_type": "code",
   "execution_count": 81,
   "metadata": {},
   "outputs": [
    {
     "name": "stdout",
     "output_type": "stream",
     "text": [
      "167 167\n"
     ]
    }
   ],
   "source": [
    "print(len(chunks_train),len(chunks_g))"
   ]
  },
  {
   "cell_type": "code",
   "execution_count": null,
   "metadata": {},
   "outputs": [],
   "source": [
    "\n",
    "# Plot each set of points from both actual and predicted sets, one at a time, saving each plot\n",
    "for n, _ in enumerate(chunks_g):\n",
    "    plot_lorenz(np.asarray(chunks_g[n]),np.asarray(chunks_train[n]), n)\n"
   ]
  },
  {
   "cell_type": "code",
   "execution_count": null,
   "metadata": {},
   "outputs": [],
   "source": [
    "# Note there is another import as Image Ipython display. GIF works with PIL only\n",
    "from PIL import Image,ImageFile\n",
    "import os\n",
    "ImageFile.LOAD_TRUNCATED_IMAGES = True\n",
    "\n",
    "# Count number of images generated by the model in the target folder\n",
    "files = os.listdir('N:/Complex_system/dl_models/dl_models/lorenz_img') \n",
    "tot_imgs =  len(files)\n",
    "\n",
    "# create a tuple of display durations, one for each frame\n",
    "first_last = 100 #show the first and last frames for 100 ms\n",
    "standard_duration = 100 #show all other frames for 5 ms\n",
    "durations = tuple([first_last] + [standard_duration] * (tot_imgs - 2) + [first_last])\n",
    "\n",
    "# load all the static images into a list\n",
    "images = [Image.open(image) for image in glob.glob('{}/*.png'.format(save_folder))]\n",
    "gif_filepath = 'N:/Complex_system/dl_models/vae_lstm_lorenz.gif'\n",
    "\n",
    "# save as an animated gif\n",
    "gif = images[0]\n",
    "gif.info['duration'] = durations #ms per frame\n",
    "gif.info['loop'] = 0 #how many times to loop (0=infinite)\n",
    "gif.save(fp=gif_filepath, format='gif', save_all=True, append_images=images[1:])\n",
    "\n",
    "# verify that the number of frames in the gif equals the number of image files and durations\n",
    "Image.open(gif_filepath).n_frames == len(images) == len(durations)\n",
    "\n",
    "IPdisplay.Image(url=gif_filepath)"
   ]
  },
  {
   "cell_type": "code",
   "execution_count": null,
   "metadata": {},
   "outputs": [],
   "source": []
  }
 ],
 "metadata": {
  "kernelspec": {
   "display_name": "Python 3",
   "language": "python",
   "name": "python3"
  },
  "language_info": {
   "codemirror_mode": {
    "name": "ipython",
    "version": 3
   },
   "file_extension": ".py",
   "mimetype": "text/x-python",
   "name": "python",
   "nbconvert_exporter": "python",
   "pygments_lexer": "ipython3",
   "version": "3.6.8"
  }
 },
 "nbformat": 4,
 "nbformat_minor": 2
}
