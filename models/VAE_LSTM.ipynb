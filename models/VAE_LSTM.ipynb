{
 "cells": [
  {
   "cell_type": "code",
   "execution_count": 1,
   "metadata": {},
   "outputs": [],
   "source": [
    "import os\n",
    "import torch\n",
    "from torch import nn, optim\n",
    "from torch.autograd import Variable\n",
    "from torch.utils.data import DataLoader\n",
    "from torchvision import transforms\n",
    "from torchvision import datasets\n",
    "from torchvision.utils import save_image\n",
    "import torchvision\n",
    "import torch.nn.functional as F\n",
    "\n",
    "from IPython.display import Image"
   ]
  },
  {
   "cell_type": "code",
   "execution_count": 2,
   "metadata": {},
   "outputs": [],
   "source": [
    "# Random seed \n",
    "torch.manual_seed(10001)\n",
    "\n",
    "bs = 32\n",
    "\n",
    "def to_var(x):\n",
    "    if torch.cuda.is_available():\n",
    "        x = x.cuda()\n",
    "    return Variable(x)\n",
    "\n",
    "def flatten(x):\n",
    "    return to_var(x.view(x.size(0), -1))\n",
    "\n",
    "def save_image(x, path='real_image.png'):\n",
    "    torchvision.utils.save_image(x, path)"
   ]
  },
  {
   "cell_type": "code",
   "execution_count": 3,
   "metadata": {},
   "outputs": [],
   "source": [
    "\n",
    "# Load Data\n",
    "dataset = datasets.MNIST(root='./data', train=True, transform=transforms.ToTensor(), download=False)\n",
    "data_loader = torch.utils.data.DataLoader(dataset, batch_size=bs, shuffle=True)"
   ]
  },
  {
   "cell_type": "code",
   "execution_count": 4,
   "metadata": {},
   "outputs": [],
   "source": [
    "if not os.path.exists('/reconstructed'):\n",
    "    os.makedirs('/reconstructed')"
   ]
  },
  {
   "cell_type": "code",
   "execution_count": 5,
   "metadata": {},
   "outputs": [],
   "source": [
    "# Some prechecks on data loader"
   ]
  },
  {
   "cell_type": "code",
   "execution_count": 6,
   "metadata": {},
   "outputs": [
    {
     "name": "stdout",
     "output_type": "stream",
     "text": [
      "torch.Size([32, 1, 28, 28]) torch.Size([32])\n"
     ]
    }
   ],
   "source": [
    "batch = list(data_loader)[0]\n",
    "img,tar = batch\n",
    "print(img.shape,tar.shape)\n",
    "# [bs,c,h,w]"
   ]
  },
  {
   "cell_type": "code",
   "execution_count": 7,
   "metadata": {},
   "outputs": [
    {
     "data": {
      "text/plain": [
       "torch.Size([32, 784])"
      ]
     },
     "execution_count": 7,
     "metadata": {},
     "output_type": "execute_result"
    }
   ],
   "source": [
    "# Fixed input for debugging\n",
    "fixed_x, _ = next(iter(data_loader))\n",
    "save_image(fixed_x)\n",
    "fixed_x = flatten(fixed_x)\n",
    "fixed_x.shape   # [bs,h*w]"
   ]
  },
  {
   "cell_type": "code",
   "execution_count": 8,
   "metadata": {},
   "outputs": [
    {
     "data": {
      "image/png": "[encoded data removed]",
      "text/plain": [
       "<IPython.core.display.Image object>"
      ]
     },
     "execution_count": 8,
     "metadata": {},
     "output_type": "execute_result"
    }
   ],
   "source": [
    "Image('real_image.png')"
   ]
  },
  {
   "cell_type": "code",
   "execution_count": 9,
   "metadata": {},
   "outputs": [],
   "source": [
    "class VAE(nn.Module):\n",
    "    def __init__(self, in_dim = 784, hidden_dim = 128, n_layers = 2, out_dim =784 ,z_dim= 10):\n",
    "        \n",
    "        super(VAE, self).__init__()\n",
    "        self.n_layers = n_layers\n",
    "        self.hidden_dim = hidden_dim\n",
    "        self.z_dim = z_dim\n",
    "        \n",
    "        self.encoder_lstm = nn.LSTM(in_dim, hidden_dim, n_layers, batch_first=True)\n",
    "                                          \n",
    "        self.encoder_output = nn.Linear(hidden_dim, z_dim*2)\n",
    "        \n",
    "        self.decoder_lstm = nn.LSTM(z_dim, hidden_dim, n_layers, batch_first=True)\n",
    "                                     \n",
    "        self.decoder_output = nn.Linear(hidden_dim, in_dim)\n",
    "        self.relu = nn.ReLU()\n",
    "        self.sigmoid = nn.Sigmoid()\n",
    "                                     \n",
    "        \n",
    "    def reparameterize(self, mu, logvar):\n",
    "        std = logvar.mul(0.5).exp_()\n",
    "        esp = to_var(torch.randn(*mu.size()))\n",
    "        z = mu + std * esp\n",
    "        return z\n",
    "                                          \n",
    "    def forward(self, x):\n",
    "        \n",
    "        # Encoder\n",
    "        enc_hidden = self._init_hidden()\n",
    "        enc,_ = self.encoder_lstm(x,enc_hidden)\n",
    "        enc = self.relu(enc)\n",
    "\n",
    "        # Reparameterize\n",
    "        z_var = self.encoder_output(enc)    \n",
    "        mu,logvar = torch.chunk(z_var, 2, dim=2)   # [bs,c,z_var]    \n",
    "        z = self.reparameterize(mu, logvar)\n",
    "        \n",
    "        # Decoder\n",
    "        dec_hidden = self._init_hidden()\n",
    "        dec,_ = self.decoder_lstm(z,dec_hidden)\n",
    "        dec = self.relu(dec)\n",
    "        dec = self.sigmoid(self.decoder_output(dec))\n",
    "        \n",
    "        return dec, mu, logvar\n",
    "    \n",
    "    \n",
    "    def _init_hidden(self):\n",
    "        return torch.zeros(self.n_layers, bs, self.hidden_dim).cuda(), torch.zeros(self.n_layers, bs, self.hidden_dim).cuda()\n",
    "        "
   ]
  },
  {
   "cell_type": "code",
   "execution_count": 10,
   "metadata": {},
   "outputs": [
    {
     "data": {
      "text/plain": [
       "VAE(\n",
       "  (encoder_lstm): LSTM(784, 128, num_layers=2, batch_first=True)\n",
       "  (encoder_output): Linear(in_features=128, out_features=20, bias=True)\n",
       "  (decoder_lstm): LSTM(10, 128, num_layers=2, batch_first=True)\n",
       "  (decoder_output): Linear(in_features=128, out_features=784, bias=True)\n",
       "  (relu): ReLU()\n",
       "  (sigmoid): Sigmoid()\n",
       ")"
      ]
     },
     "execution_count": 10,
     "metadata": {},
     "output_type": "execute_result"
    }
   ],
   "source": [
    "vae = VAE()\n",
    "if torch.cuda.is_available():\n",
    "    vae.cuda()\n",
    "vae"
   ]
  },
  {
   "cell_type": "code",
   "execution_count": 11,
   "metadata": {},
   "outputs": [],
   "source": [
    "optimizer = torch.optim.Adam(vae.parameters(), lr=1e-3)"
   ]
  },
  {
   "cell_type": "code",
   "execution_count": 12,
   "metadata": {},
   "outputs": [],
   "source": [
    "def loss_fn(recon_x, x, mu, logvar,eps):\n",
    "    BCE = F.binary_cross_entropy(recon_x + eps, x, size_average=False)\n",
    "    # Kingma and Welling. Auto-Encoding Variational Bayes. ICLR, 2014\n",
    "    # 0.5 * sum(1 + log(sigma^2) - mu^2 - sigma^2)\n",
    "    KLD = -0.5 * torch.sum(1 + logvar - mu**2 -  logvar.exp())\n",
    "    return BCE + KLD"
   ]
  },
  {
   "cell_type": "code",
   "execution_count": 13,
   "metadata": {},
   "outputs": [
    {
     "name": "stderr",
     "output_type": "stream",
     "text": [
      "C:\\Users\\saran\\Anaconda3\\envs\\tensor\\lib\\site-packages\\torch\\nn\\_reduction.py:49: UserWarning: size_average and reduce args will be deprecated, please use reduction='sum' instead.\n",
      "  warnings.warn(warning.format(ret))\n"
     ]
    },
    {
     "name": "stdout",
     "output_type": "stream",
     "text": [
      "Epoch[1/10] Loss: 543.664\n",
      "Epoch[1/10] Loss: 204.133\n",
      "Epoch[1/10] Loss: 210.702\n",
      "Epoch[1/10] Loss: 209.415\n",
      "Epoch[1/10] Loss: 203.316\n",
      "Epoch[1/10] Loss: 220.746\n",
      "Epoch[1/10] Loss: 202.235\n",
      "Epoch[1/10] Loss: 205.125\n",
      "Epoch[1/10] Loss: 183.194\n",
      "Epoch[1/10] Loss: 222.586\n",
      "Epoch[1/10] Loss: 194.847\n",
      "Epoch[1/10] Loss: 194.867\n",
      "Epoch[1/10] Loss: 199.106\n",
      "Epoch[1/10] Loss: 185.568\n",
      "Epoch[1/10] Loss: 191.850\n",
      "Epoch[1/10] Loss: 181.438\n",
      "Epoch[1/10] Loss: 187.180\n",
      "Epoch[1/10] Loss: 183.377\n",
      "Epoch[1/10] Loss: 189.241\n",
      "Epoch[2/10] Loss: 168.972\n",
      "Epoch[2/10] Loss: 189.305\n",
      "Epoch[2/10] Loss: 167.899\n",
      "Epoch[2/10] Loss: 186.779\n",
      "Epoch[2/10] Loss: 172.965\n",
      "Epoch[2/10] Loss: 185.290\n",
      "Epoch[2/10] Loss: 171.014\n",
      "Epoch[2/10] Loss: 184.448\n",
      "Epoch[2/10] Loss: 179.094\n",
      "Epoch[2/10] Loss: 176.802\n",
      "Epoch[2/10] Loss: 174.562\n",
      "Epoch[2/10] Loss: 169.327\n",
      "Epoch[2/10] Loss: 165.101\n",
      "Epoch[2/10] Loss: 174.686\n",
      "Epoch[2/10] Loss: 169.394\n",
      "Epoch[2/10] Loss: 171.931\n",
      "Epoch[2/10] Loss: 170.754\n",
      "Epoch[2/10] Loss: 166.867\n",
      "Epoch[2/10] Loss: 163.859\n",
      "Epoch[3/10] Loss: 161.368\n",
      "Epoch[3/10] Loss: 165.370\n",
      "Epoch[3/10] Loss: 159.383\n",
      "Epoch[3/10] Loss: 168.816\n",
      "Epoch[3/10] Loss: 173.286\n",
      "Epoch[3/10] Loss: 162.726\n",
      "Epoch[3/10] Loss: 151.919\n",
      "Epoch[3/10] Loss: 168.982\n",
      "Epoch[3/10] Loss: 135.533\n",
      "Epoch[3/10] Loss: 143.138\n",
      "Epoch[3/10] Loss: 174.616\n",
      "Epoch[3/10] Loss: 152.075\n",
      "Epoch[3/10] Loss: 172.993\n",
      "Epoch[3/10] Loss: 172.460\n",
      "Epoch[3/10] Loss: 135.951\n",
      "Epoch[3/10] Loss: 150.480\n",
      "Epoch[3/10] Loss: 147.583\n",
      "Epoch[3/10] Loss: 163.709\n",
      "Epoch[3/10] Loss: 142.940\n",
      "Epoch[4/10] Loss: 159.318\n",
      "Epoch[4/10] Loss: 158.536\n",
      "Epoch[4/10] Loss: 159.285\n",
      "Epoch[4/10] Loss: 160.091\n",
      "Epoch[4/10] Loss: 148.719\n",
      "Epoch[4/10] Loss: 158.783\n",
      "Epoch[4/10] Loss: 160.902\n",
      "Epoch[4/10] Loss: 149.551\n",
      "Epoch[4/10] Loss: 161.375\n",
      "Epoch[4/10] Loss: 138.503\n",
      "Epoch[4/10] Loss: 136.251\n",
      "Epoch[4/10] Loss: 137.491\n",
      "Epoch[4/10] Loss: 160.346\n",
      "Epoch[4/10] Loss: 164.482\n",
      "Epoch[4/10] Loss: 164.151\n",
      "Epoch[4/10] Loss: 144.023\n",
      "Epoch[4/10] Loss: 148.526\n",
      "Epoch[4/10] Loss: 166.812\n",
      "Epoch[4/10] Loss: 146.019\n",
      "Epoch[5/10] Loss: 163.537\n",
      "Epoch[5/10] Loss: 165.897\n",
      "Epoch[5/10] Loss: 144.444\n",
      "Epoch[5/10] Loss: 126.971\n",
      "Epoch[5/10] Loss: 161.154\n",
      "Epoch[5/10] Loss: 143.219\n",
      "Epoch[5/10] Loss: 150.929\n",
      "Epoch[5/10] Loss: 146.314\n",
      "Epoch[5/10] Loss: 142.755\n",
      "Epoch[5/10] Loss: 149.416\n",
      "Epoch[5/10] Loss: 130.852\n",
      "Epoch[5/10] Loss: 145.313\n",
      "Epoch[5/10] Loss: 143.989\n",
      "Epoch[5/10] Loss: 151.668\n",
      "Epoch[5/10] Loss: 163.153\n",
      "Epoch[5/10] Loss: 157.428\n",
      "Epoch[5/10] Loss: 149.205\n",
      "Epoch[5/10] Loss: 155.708\n",
      "Epoch[5/10] Loss: 148.496\n",
      "Epoch[6/10] Loss: 151.507\n",
      "Epoch[6/10] Loss: 144.158\n",
      "Epoch[6/10] Loss: 138.846\n",
      "Epoch[6/10] Loss: 140.715\n",
      "Epoch[6/10] Loss: 149.385\n",
      "Epoch[6/10] Loss: 146.733\n",
      "Epoch[6/10] Loss: 140.558\n",
      "Epoch[6/10] Loss: 164.447\n",
      "Epoch[6/10] Loss: 153.314\n",
      "Epoch[6/10] Loss: 148.285\n",
      "Epoch[6/10] Loss: 151.067\n",
      "Epoch[6/10] Loss: 141.978\n",
      "Epoch[6/10] Loss: 165.207\n",
      "Epoch[6/10] Loss: 146.355\n",
      "Epoch[6/10] Loss: 132.444\n",
      "Epoch[6/10] Loss: 154.813\n",
      "Epoch[6/10] Loss: 155.119\n",
      "Epoch[6/10] Loss: 143.430\n",
      "Epoch[6/10] Loss: 150.942\n",
      "Epoch[7/10] Loss: 146.057\n",
      "Epoch[7/10] Loss: 156.594\n",
      "Epoch[7/10] Loss: 143.018\n",
      "Epoch[7/10] Loss: 151.325\n",
      "Epoch[7/10] Loss: 143.800\n",
      "Epoch[7/10] Loss: 139.935\n",
      "Epoch[7/10] Loss: 136.171\n",
      "Epoch[7/10] Loss: 144.297\n",
      "Epoch[7/10] Loss: 153.911\n",
      "Epoch[7/10] Loss: 145.134\n",
      "Epoch[7/10] Loss: 148.747\n",
      "Epoch[7/10] Loss: 144.247\n",
      "Epoch[7/10] Loss: 145.177\n",
      "Epoch[7/10] Loss: 146.944\n",
      "Epoch[7/10] Loss: 139.967\n",
      "Epoch[7/10] Loss: 166.037\n",
      "Epoch[7/10] Loss: 143.525\n",
      "Epoch[7/10] Loss: 134.140\n",
      "Epoch[7/10] Loss: 167.635\n",
      "Epoch[8/10] Loss: 138.185\n",
      "Epoch[8/10] Loss: 141.563\n",
      "Epoch[8/10] Loss: 157.601\n",
      "Epoch[8/10] Loss: 134.773\n",
      "Epoch[8/10] Loss: 146.590\n",
      "Epoch[8/10] Loss: 159.293\n",
      "Epoch[8/10] Loss: 145.896\n",
      "Epoch[8/10] Loss: 161.823\n",
      "Epoch[8/10] Loss: 148.652\n",
      "Epoch[8/10] Loss: 145.305\n",
      "Epoch[8/10] Loss: 159.412\n",
      "Epoch[8/10] Loss: 142.105\n",
      "Epoch[8/10] Loss: 148.131\n",
      "Epoch[8/10] Loss: 139.009\n",
      "Epoch[8/10] Loss: 146.152\n",
      "Epoch[8/10] Loss: 149.127\n",
      "Epoch[8/10] Loss: 146.889\n",
      "Epoch[8/10] Loss: 158.622\n",
      "Epoch[8/10] Loss: 145.047\n",
      "Epoch[9/10] Loss: 140.151\n",
      "Epoch[9/10] Loss: 148.203\n",
      "Epoch[9/10] Loss: 130.173\n",
      "Epoch[9/10] Loss: 138.151\n",
      "Epoch[9/10] Loss: 143.555\n",
      "Epoch[9/10] Loss: 144.081\n",
      "Epoch[9/10] Loss: 153.870\n",
      "Epoch[9/10] Loss: 153.283\n",
      "Epoch[9/10] Loss: 144.056\n",
      "Epoch[9/10] Loss: 135.159\n",
      "Epoch[9/10] Loss: 154.157\n",
      "Epoch[9/10] Loss: 139.069\n",
      "Epoch[9/10] Loss: 143.824\n",
      "Epoch[9/10] Loss: 142.199\n",
      "Epoch[9/10] Loss: 148.726\n",
      "Epoch[9/10] Loss: 152.978\n",
      "Epoch[9/10] Loss: 155.780\n",
      "Epoch[9/10] Loss: 145.280\n",
      "Epoch[9/10] Loss: 150.251\n",
      "Epoch[10/10] Loss: 145.937\n",
      "Epoch[10/10] Loss: 147.709\n",
      "Epoch[10/10] Loss: 141.279\n",
      "Epoch[10/10] Loss: 139.702\n",
      "Epoch[10/10] Loss: 144.322\n",
      "Epoch[10/10] Loss: 138.444\n",
      "Epoch[10/10] Loss: 137.786\n",
      "Epoch[10/10] Loss: 128.548\n",
      "Epoch[10/10] Loss: 141.975\n",
      "Epoch[10/10] Loss: 153.787\n",
      "Epoch[10/10] Loss: 145.257\n",
      "Epoch[10/10] Loss: 141.587\n",
      "Epoch[10/10] Loss: 152.538\n",
      "Epoch[10/10] Loss: 156.243\n",
      "Epoch[10/10] Loss: 130.129\n",
      "Epoch[10/10] Loss: 133.732\n",
      "Epoch[10/10] Loss: 140.674\n",
      "Epoch[10/10] Loss: 138.472\n",
      "Epoch[10/10] Loss: 141.206\n"
     ]
    }
   ],
   "source": [
    "epochs = 10\n",
    "eps = torch.Tensor([1e-10]).cuda()\n",
    "\n",
    "for epoch in range(epochs):\n",
    "    for idx, (images, _) in enumerate(data_loader):\n",
    "        \n",
    "        images = flatten(images).unsqueeze(1)\n",
    "#         images = flatten(images)\n",
    "        recon_images, mu, logvar = vae(images)\n",
    "        loss = loss_fn(recon_images, images, mu, logvar,eps)\n",
    "\n",
    "        optimizer.zero_grad()\n",
    "        loss.backward()\n",
    "        optimizer.step()\n",
    "    \n",
    "        if idx%100 == 0:\n",
    "            print(\"Epoch[{}/{}] Loss: {:.3f}\".format(epoch+1, epochs, loss.item()/bs))\n",
    "    \n",
    "            recon_x, _, _ = vae(fixed_x.unsqueeze(1))\n",
    "            save_image(recon_x.view(recon_x.size(0), 1, 28, 28).data.cpu(), f'recon_image_{epoch}_{idx}.png')\n",
    "            "
   ]
  },
  {
   "cell_type": "code",
   "execution_count": null,
   "metadata": {},
   "outputs": [],
   "source": []
  }
 ],
 "metadata": {
  "kernelspec": {
   "display_name": "Python 3",
   "language": "python",
   "name": "python3"
  },
  "language_info": {
   "codemirror_mode": {
    "name": "ipython",
    "version": 3
   },
   "file_extension": ".py",
   "mimetype": "text/x-python",
   "name": "python",
   "nbconvert_exporter": "python",
   "pygments_lexer": "ipython3",
   "version": "3.6.8"
  }
 },
 "nbformat": 4,
 "nbformat_minor": 2
}
